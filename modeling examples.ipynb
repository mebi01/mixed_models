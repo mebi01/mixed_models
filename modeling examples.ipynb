{
 "cells": [
  {
   "cell_type": "code",
   "execution_count": 4,
   "metadata": {},
   "outputs": [
    {
     "name": "stderr",
     "output_type": "stream",
     "text": [
      "also installing the dependencies ‘zip’, ‘openxlsx’, ‘rio’, ‘nloptr’, ‘PKPDmodels’, ‘MEMSS’, ‘mlmRev’, ‘optimx’, ‘gamm4’, ‘pbkrtest’, ‘HSAUR2’, ‘car’, ‘dfoptim’\n",
      "\n",
      "Warning message in install.packages(\"lme4\", dependencies = TRUE):\n",
      "“installation of package ‘zip’ had non-zero exit status”Warning message in install.packages(\"lme4\", dependencies = TRUE):\n",
      "“installation of package ‘nloptr’ had non-zero exit status”Warning message in install.packages(\"lme4\", dependencies = TRUE):\n",
      "“installation of package ‘openxlsx’ had non-zero exit status”Warning message in install.packages(\"lme4\", dependencies = TRUE):\n",
      "“installation of package ‘lme4’ had non-zero exit status”Warning message in install.packages(\"lme4\", dependencies = TRUE):\n",
      "“installation of package ‘rio’ had non-zero exit status”Warning message in install.packages(\"lme4\", dependencies = TRUE):\n",
      "“installation of package ‘MEMSS’ had non-zero exit status”Warning message in install.packages(\"lme4\", dependencies = TRUE):\n",
      "“installation of package ‘mlmRev’ had non-zero exit status”Warning message in install.packages(\"lme4\", dependencies = TRUE):\n",
      "“installation of package ‘gamm4’ had non-zero exit status”Warning message in install.packages(\"lme4\", dependencies = TRUE):\n",
      "“installation of package ‘pbkrtest’ had non-zero exit status”Warning message in install.packages(\"lme4\", dependencies = TRUE):\n",
      "“installation of package ‘car’ had non-zero exit status”Updating HTML index of packages in '.Library'\n",
      "Making 'packages.html' ... done\n"
     ]
    }
   ],
   "source": [
    "#load libraries\n",
    "install.packages(\"lme4\", dependencies = TRUE)\n",
    "\n",
    "#for the sim function\n",
    "#simulate a dataset\n"
   ]
  },
  {
   "cell_type": "code",
   "execution_count": 8,
   "metadata": {},
   "outputs": [
    {
     "name": "stderr",
     "output_type": "stream",
     "text": [
      "also installing the dependencies ‘coda’, ‘TMB’\n",
      "\n",
      "Updating HTML index of packages in '.Library'\n",
      "Making 'packages.html' ... done\n"
     ]
    }
   ],
   "source": [
    "install.packages('broom.mixed')"
   ]
  },
  {
   "cell_type": "code",
   "execution_count": 9,
   "metadata": {},
   "outputs": [
    {
     "ename": "ERROR",
     "evalue": "Error in library(\"lme4\"): there is no package called ‘lme4’\n",
     "output_type": "error",
     "traceback": [
      "Error in library(\"lme4\"): there is no package called ‘lme4’\nTraceback:\n",
      "1. library(\"lme4\")"
     ]
    }
   ],
   "source": [
    "library(\"lme4\")"
   ]
  },
  {
   "cell_type": "code",
   "execution_count": 10,
   "metadata": {},
   "outputs": [
    {
     "ename": "ERROR",
     "evalue": "Error in library(arm): there is no package called ‘arm’\n",
     "output_type": "error",
     "traceback": [
      "Error in library(arm): there is no package called ‘arm’\nTraceback:\n",
      "1. library(arm)"
     ]
    }
   ],
   "source": [
    "library(arm)"
   ]
  },
  {
   "cell_type": "code",
   "execution_count": 11,
   "metadata": {},
   "outputs": [],
   "source": [
    "data<-data.frame(Temp=runif(100,-2,2),N=runif(100,-2,2),Site=gl(n=20,k=5,labels=paste0(\"Site\",1:20)))\n"
   ]
  },
  {
   "cell_type": "code",
   "execution_count": 12,
   "metadata": {},
   "outputs": [
    {
     "data": {
      "text/html": [
       "<table>\n",
       "<thead><tr><th scope=col>Temp</th><th scope=col>N</th><th scope=col>Site</th></tr></thead>\n",
       "<tbody>\n",
       "\t<tr><td> 1.05401678</td><td>-0.81916624</td><td>Site1      </td></tr>\n",
       "\t<tr><td>-0.78722031</td><td>-1.76919630</td><td>Site1      </td></tr>\n",
       "\t<tr><td>-1.49141753</td><td>-1.56392478</td><td>Site1      </td></tr>\n",
       "\t<tr><td> 1.97277891</td><td> 1.37551389</td><td>Site1      </td></tr>\n",
       "\t<tr><td> 0.43563487</td><td>-0.27463400</td><td>Site1      </td></tr>\n",
       "\t<tr><td> 0.74672960</td><td>-0.93898503</td><td>Site2      </td></tr>\n",
       "\t<tr><td>-1.49887672</td><td>-1.53262690</td><td>Site2      </td></tr>\n",
       "\t<tr><td> 1.01186814</td><td> 0.70900459</td><td>Site2      </td></tr>\n",
       "\t<tr><td>-0.69910103</td><td>-1.08223873</td><td>Site2      </td></tr>\n",
       "\t<tr><td> 0.08636538</td><td>-0.86956492</td><td>Site2      </td></tr>\n",
       "\t<tr><td>-1.38655539</td><td> 1.17175281</td><td>Site3      </td></tr>\n",
       "\t<tr><td>-1.38356561</td><td> 0.61577414</td><td>Site3      </td></tr>\n",
       "\t<tr><td> 1.37022219</td><td> 0.59383824</td><td>Site3      </td></tr>\n",
       "\t<tr><td>-0.54728217</td><td> 0.81275733</td><td>Site3      </td></tr>\n",
       "\t<tr><td> 1.07494615</td><td>-0.02322978</td><td>Site3      </td></tr>\n",
       "\t<tr><td>-0.96924553</td><td> 0.92487813</td><td>Site4      </td></tr>\n",
       "\t<tr><td>-0.22880299</td><td> 1.08535590</td><td>Site4      </td></tr>\n",
       "\t<tr><td>-1.98392461</td><td>-1.33871223</td><td>Site4      </td></tr>\n",
       "\t<tr><td>-0.73685225</td><td> 1.67847005</td><td>Site4      </td></tr>\n",
       "\t<tr><td> 1.99917741</td><td> 0.27013568</td><td>Site4      </td></tr>\n",
       "\t<tr><td> 0.18552852</td><td>-0.24858276</td><td>Site5      </td></tr>\n",
       "\t<tr><td>-1.33428650</td><td> 0.28852025</td><td>Site5      </td></tr>\n",
       "\t<tr><td> 1.37077819</td><td>-1.23182642</td><td>Site5      </td></tr>\n",
       "\t<tr><td>-0.42687236</td><td>-1.71501320</td><td>Site5      </td></tr>\n",
       "\t<tr><td> 0.81710214</td><td>-0.30720897</td><td>Site5      </td></tr>\n",
       "\t<tr><td>-0.87100584</td><td>-0.72114423</td><td>Site6      </td></tr>\n",
       "\t<tr><td>-0.05743850</td><td>-0.61526260</td><td>Site6      </td></tr>\n",
       "\t<tr><td> 1.31556257</td><td>-1.33209784</td><td>Site6      </td></tr>\n",
       "\t<tr><td> 0.58236775</td><td>-1.98330571</td><td>Site6      </td></tr>\n",
       "\t<tr><td> 0.03796479</td><td> 1.46193856</td><td>Site6      </td></tr>\n",
       "\t<tr><td>...</td><td>...</td><td>...</td></tr>\n",
       "\t<tr><td>-0.82709100</td><td> 0.91034072</td><td>Site15     </td></tr>\n",
       "\t<tr><td>-0.13058027</td><td>-1.38644025</td><td>Site15     </td></tr>\n",
       "\t<tr><td> 0.58070443</td><td> 1.92992437</td><td>Site15     </td></tr>\n",
       "\t<tr><td> 1.21077619</td><td> 0.57543850</td><td>Site15     </td></tr>\n",
       "\t<tr><td> 0.35502049</td><td>-0.04902803</td><td>Site15     </td></tr>\n",
       "\t<tr><td>-0.70058724</td><td>-0.38071678</td><td>Site16     </td></tr>\n",
       "\t<tr><td>-1.46071879</td><td> 0.36265712</td><td>Site16     </td></tr>\n",
       "\t<tr><td>-0.08333169</td><td> 0.22462186</td><td>Site16     </td></tr>\n",
       "\t<tr><td>-0.37642570</td><td> 0.41396041</td><td>Site16     </td></tr>\n",
       "\t<tr><td> 1.48762833</td><td> 0.22095735</td><td>Site16     </td></tr>\n",
       "\t<tr><td> 1.88633567</td><td>-1.15436526</td><td>Site17     </td></tr>\n",
       "\t<tr><td>-1.14843870</td><td>-0.47081118</td><td>Site17     </td></tr>\n",
       "\t<tr><td>-1.89115261</td><td> 0.86086408</td><td>Site17     </td></tr>\n",
       "\t<tr><td> 0.76686414</td><td> 0.91208420</td><td>Site17     </td></tr>\n",
       "\t<tr><td> 0.49630872</td><td> 1.26676578</td><td>Site17     </td></tr>\n",
       "\t<tr><td>-1.75992658</td><td>-0.99825926</td><td>Site18     </td></tr>\n",
       "\t<tr><td>-1.57087593</td><td> 0.83051645</td><td>Site18     </td></tr>\n",
       "\t<tr><td>-0.57245705</td><td>-0.75800460</td><td>Site18     </td></tr>\n",
       "\t<tr><td> 0.14088595</td><td> 1.53953641</td><td>Site18     </td></tr>\n",
       "\t<tr><td> 1.57789338</td><td>-0.25475246</td><td>Site18     </td></tr>\n",
       "\t<tr><td> 0.65077559</td><td> 1.68848074</td><td>Site19     </td></tr>\n",
       "\t<tr><td> 1.21169437</td><td>-0.08003434</td><td>Site19     </td></tr>\n",
       "\t<tr><td>-1.33520984</td><td> 1.95442326</td><td>Site19     </td></tr>\n",
       "\t<tr><td> 1.24203103</td><td>-0.61203418</td><td>Site19     </td></tr>\n",
       "\t<tr><td> 0.32639404</td><td> 1.81088482</td><td>Site19     </td></tr>\n",
       "\t<tr><td> 1.10182697</td><td>-1.49133806</td><td>Site20     </td></tr>\n",
       "\t<tr><td> 0.79951521</td><td>-0.85522607</td><td>Site20     </td></tr>\n",
       "\t<tr><td>-1.48055498</td><td>-0.29282335</td><td>Site20     </td></tr>\n",
       "\t<tr><td> 1.73113937</td><td> 1.48213240</td><td>Site20     </td></tr>\n",
       "\t<tr><td>-1.57367442</td><td> 0.42144255</td><td>Site20     </td></tr>\n",
       "</tbody>\n",
       "</table>\n"
      ],
      "text/latex": [
       "\\begin{tabular}{r|lll}\n",
       " Temp & N & Site\\\\\n",
       "\\hline\n",
       "\t  1.05401678 & -0.81916624 & Site1      \\\\\n",
       "\t -0.78722031 & -1.76919630 & Site1      \\\\\n",
       "\t -1.49141753 & -1.56392478 & Site1      \\\\\n",
       "\t  1.97277891 &  1.37551389 & Site1      \\\\\n",
       "\t  0.43563487 & -0.27463400 & Site1      \\\\\n",
       "\t  0.74672960 & -0.93898503 & Site2      \\\\\n",
       "\t -1.49887672 & -1.53262690 & Site2      \\\\\n",
       "\t  1.01186814 &  0.70900459 & Site2      \\\\\n",
       "\t -0.69910103 & -1.08223873 & Site2      \\\\\n",
       "\t  0.08636538 & -0.86956492 & Site2      \\\\\n",
       "\t -1.38655539 &  1.17175281 & Site3      \\\\\n",
       "\t -1.38356561 &  0.61577414 & Site3      \\\\\n",
       "\t  1.37022219 &  0.59383824 & Site3      \\\\\n",
       "\t -0.54728217 &  0.81275733 & Site3      \\\\\n",
       "\t  1.07494615 & -0.02322978 & Site3      \\\\\n",
       "\t -0.96924553 &  0.92487813 & Site4      \\\\\n",
       "\t -0.22880299 &  1.08535590 & Site4      \\\\\n",
       "\t -1.98392461 & -1.33871223 & Site4      \\\\\n",
       "\t -0.73685225 &  1.67847005 & Site4      \\\\\n",
       "\t  1.99917741 &  0.27013568 & Site4      \\\\\n",
       "\t  0.18552852 & -0.24858276 & Site5      \\\\\n",
       "\t -1.33428650 &  0.28852025 & Site5      \\\\\n",
       "\t  1.37077819 & -1.23182642 & Site5      \\\\\n",
       "\t -0.42687236 & -1.71501320 & Site5      \\\\\n",
       "\t  0.81710214 & -0.30720897 & Site5      \\\\\n",
       "\t -0.87100584 & -0.72114423 & Site6      \\\\\n",
       "\t -0.05743850 & -0.61526260 & Site6      \\\\\n",
       "\t  1.31556257 & -1.33209784 & Site6      \\\\\n",
       "\t  0.58236775 & -1.98330571 & Site6      \\\\\n",
       "\t  0.03796479 &  1.46193856 & Site6      \\\\\n",
       "\t ... & ... & ...\\\\\n",
       "\t -0.82709100 &  0.91034072 & Site15     \\\\\n",
       "\t -0.13058027 & -1.38644025 & Site15     \\\\\n",
       "\t  0.58070443 &  1.92992437 & Site15     \\\\\n",
       "\t  1.21077619 &  0.57543850 & Site15     \\\\\n",
       "\t  0.35502049 & -0.04902803 & Site15     \\\\\n",
       "\t -0.70058724 & -0.38071678 & Site16     \\\\\n",
       "\t -1.46071879 &  0.36265712 & Site16     \\\\\n",
       "\t -0.08333169 &  0.22462186 & Site16     \\\\\n",
       "\t -0.37642570 &  0.41396041 & Site16     \\\\\n",
       "\t  1.48762833 &  0.22095735 & Site16     \\\\\n",
       "\t  1.88633567 & -1.15436526 & Site17     \\\\\n",
       "\t -1.14843870 & -0.47081118 & Site17     \\\\\n",
       "\t -1.89115261 &  0.86086408 & Site17     \\\\\n",
       "\t  0.76686414 &  0.91208420 & Site17     \\\\\n",
       "\t  0.49630872 &  1.26676578 & Site17     \\\\\n",
       "\t -1.75992658 & -0.99825926 & Site18     \\\\\n",
       "\t -1.57087593 &  0.83051645 & Site18     \\\\\n",
       "\t -0.57245705 & -0.75800460 & Site18     \\\\\n",
       "\t  0.14088595 &  1.53953641 & Site18     \\\\\n",
       "\t  1.57789338 & -0.25475246 & Site18     \\\\\n",
       "\t  0.65077559 &  1.68848074 & Site19     \\\\\n",
       "\t  1.21169437 & -0.08003434 & Site19     \\\\\n",
       "\t -1.33520984 &  1.95442326 & Site19     \\\\\n",
       "\t  1.24203103 & -0.61203418 & Site19     \\\\\n",
       "\t  0.32639404 &  1.81088482 & Site19     \\\\\n",
       "\t  1.10182697 & -1.49133806 & Site20     \\\\\n",
       "\t  0.79951521 & -0.85522607 & Site20     \\\\\n",
       "\t -1.48055498 & -0.29282335 & Site20     \\\\\n",
       "\t  1.73113937 &  1.48213240 & Site20     \\\\\n",
       "\t -1.57367442 &  0.42144255 & Site20     \\\\\n",
       "\\end{tabular}\n"
      ],
      "text/markdown": [
       "\n",
       "| Temp | N | Site |\n",
       "|---|---|---|\n",
       "|  1.05401678 | -0.81916624 | Site1       |\n",
       "| -0.78722031 | -1.76919630 | Site1       |\n",
       "| -1.49141753 | -1.56392478 | Site1       |\n",
       "|  1.97277891 |  1.37551389 | Site1       |\n",
       "|  0.43563487 | -0.27463400 | Site1       |\n",
       "|  0.74672960 | -0.93898503 | Site2       |\n",
       "| -1.49887672 | -1.53262690 | Site2       |\n",
       "|  1.01186814 |  0.70900459 | Site2       |\n",
       "| -0.69910103 | -1.08223873 | Site2       |\n",
       "|  0.08636538 | -0.86956492 | Site2       |\n",
       "| -1.38655539 |  1.17175281 | Site3       |\n",
       "| -1.38356561 |  0.61577414 | Site3       |\n",
       "|  1.37022219 |  0.59383824 | Site3       |\n",
       "| -0.54728217 |  0.81275733 | Site3       |\n",
       "|  1.07494615 | -0.02322978 | Site3       |\n",
       "| -0.96924553 |  0.92487813 | Site4       |\n",
       "| -0.22880299 |  1.08535590 | Site4       |\n",
       "| -1.98392461 | -1.33871223 | Site4       |\n",
       "| -0.73685225 |  1.67847005 | Site4       |\n",
       "|  1.99917741 |  0.27013568 | Site4       |\n",
       "|  0.18552852 | -0.24858276 | Site5       |\n",
       "| -1.33428650 |  0.28852025 | Site5       |\n",
       "|  1.37077819 | -1.23182642 | Site5       |\n",
       "| -0.42687236 | -1.71501320 | Site5       |\n",
       "|  0.81710214 | -0.30720897 | Site5       |\n",
       "| -0.87100584 | -0.72114423 | Site6       |\n",
       "| -0.05743850 | -0.61526260 | Site6       |\n",
       "|  1.31556257 | -1.33209784 | Site6       |\n",
       "|  0.58236775 | -1.98330571 | Site6       |\n",
       "|  0.03796479 |  1.46193856 | Site6       |\n",
       "| ... | ... | ... |\n",
       "| -0.82709100 |  0.91034072 | Site15      |\n",
       "| -0.13058027 | -1.38644025 | Site15      |\n",
       "|  0.58070443 |  1.92992437 | Site15      |\n",
       "|  1.21077619 |  0.57543850 | Site15      |\n",
       "|  0.35502049 | -0.04902803 | Site15      |\n",
       "| -0.70058724 | -0.38071678 | Site16      |\n",
       "| -1.46071879 |  0.36265712 | Site16      |\n",
       "| -0.08333169 |  0.22462186 | Site16      |\n",
       "| -0.37642570 |  0.41396041 | Site16      |\n",
       "|  1.48762833 |  0.22095735 | Site16      |\n",
       "|  1.88633567 | -1.15436526 | Site17      |\n",
       "| -1.14843870 | -0.47081118 | Site17      |\n",
       "| -1.89115261 |  0.86086408 | Site17      |\n",
       "|  0.76686414 |  0.91208420 | Site17      |\n",
       "|  0.49630872 |  1.26676578 | Site17      |\n",
       "| -1.75992658 | -0.99825926 | Site18      |\n",
       "| -1.57087593 |  0.83051645 | Site18      |\n",
       "| -0.57245705 | -0.75800460 | Site18      |\n",
       "|  0.14088595 |  1.53953641 | Site18      |\n",
       "|  1.57789338 | -0.25475246 | Site18      |\n",
       "|  0.65077559 |  1.68848074 | Site19      |\n",
       "|  1.21169437 | -0.08003434 | Site19      |\n",
       "| -1.33520984 |  1.95442326 | Site19      |\n",
       "|  1.24203103 | -0.61203418 | Site19      |\n",
       "|  0.32639404 |  1.81088482 | Site19      |\n",
       "|  1.10182697 | -1.49133806 | Site20      |\n",
       "|  0.79951521 | -0.85522607 | Site20      |\n",
       "| -1.48055498 | -0.29282335 | Site20      |\n",
       "|  1.73113937 |  1.48213240 | Site20      |\n",
       "| -1.57367442 |  0.42144255 | Site20      |\n",
       "\n"
      ],
      "text/plain": [
       "    Temp        N           Site  \n",
       "1    1.05401678 -0.81916624 Site1 \n",
       "2   -0.78722031 -1.76919630 Site1 \n",
       "3   -1.49141753 -1.56392478 Site1 \n",
       "4    1.97277891  1.37551389 Site1 \n",
       "5    0.43563487 -0.27463400 Site1 \n",
       "6    0.74672960 -0.93898503 Site2 \n",
       "7   -1.49887672 -1.53262690 Site2 \n",
       "8    1.01186814  0.70900459 Site2 \n",
       "9   -0.69910103 -1.08223873 Site2 \n",
       "10   0.08636538 -0.86956492 Site2 \n",
       "11  -1.38655539  1.17175281 Site3 \n",
       "12  -1.38356561  0.61577414 Site3 \n",
       "13   1.37022219  0.59383824 Site3 \n",
       "14  -0.54728217  0.81275733 Site3 \n",
       "15   1.07494615 -0.02322978 Site3 \n",
       "16  -0.96924553  0.92487813 Site4 \n",
       "17  -0.22880299  1.08535590 Site4 \n",
       "18  -1.98392461 -1.33871223 Site4 \n",
       "19  -0.73685225  1.67847005 Site4 \n",
       "20   1.99917741  0.27013568 Site4 \n",
       "21   0.18552852 -0.24858276 Site5 \n",
       "22  -1.33428650  0.28852025 Site5 \n",
       "23   1.37077819 -1.23182642 Site5 \n",
       "24  -0.42687236 -1.71501320 Site5 \n",
       "25   0.81710214 -0.30720897 Site5 \n",
       "26  -0.87100584 -0.72114423 Site6 \n",
       "27  -0.05743850 -0.61526260 Site6 \n",
       "28   1.31556257 -1.33209784 Site6 \n",
       "29   0.58236775 -1.98330571 Site6 \n",
       "30   0.03796479  1.46193856 Site6 \n",
       "... ...         ...         ...   \n",
       "71  -0.82709100  0.91034072 Site15\n",
       "72  -0.13058027 -1.38644025 Site15\n",
       "73   0.58070443  1.92992437 Site15\n",
       "74   1.21077619  0.57543850 Site15\n",
       "75   0.35502049 -0.04902803 Site15\n",
       "76  -0.70058724 -0.38071678 Site16\n",
       "77  -1.46071879  0.36265712 Site16\n",
       "78  -0.08333169  0.22462186 Site16\n",
       "79  -0.37642570  0.41396041 Site16\n",
       "80   1.48762833  0.22095735 Site16\n",
       "81   1.88633567 -1.15436526 Site17\n",
       "82  -1.14843870 -0.47081118 Site17\n",
       "83  -1.89115261  0.86086408 Site17\n",
       "84   0.76686414  0.91208420 Site17\n",
       "85   0.49630872  1.26676578 Site17\n",
       "86  -1.75992658 -0.99825926 Site18\n",
       "87  -1.57087593  0.83051645 Site18\n",
       "88  -0.57245705 -0.75800460 Site18\n",
       "89   0.14088595  1.53953641 Site18\n",
       "90   1.57789338 -0.25475246 Site18\n",
       "91   0.65077559  1.68848074 Site19\n",
       "92   1.21169437 -0.08003434 Site19\n",
       "93  -1.33520984  1.95442326 Site19\n",
       "94   1.24203103 -0.61203418 Site19\n",
       "95   0.32639404  1.81088482 Site19\n",
       "96   1.10182697 -1.49133806 Site20\n",
       "97   0.79951521 -0.85522607 Site20\n",
       "98  -1.48055498 -0.29282335 Site20\n",
       "99   1.73113937  1.48213240 Site20\n",
       "100 -1.57367442  0.42144255 Site20"
      ]
     },
     "metadata": {},
     "output_type": "display_data"
    }
   ],
   "source": [
    "data"
   ]
  },
  {
   "cell_type": "code",
   "execution_count": 20,
   "metadata": {
    "scrolled": true
   },
   "outputs": [
    {
     "data": {
      "text/html": [
       "<ol class=list-inline>\n",
       "\t<li>0.878794076920602</li>\n",
       "\t<li>0.753810770620789</li>\n",
       "\t<li>-0.116444118083869</li>\n",
       "\t<li>0.617827265296414</li>\n",
       "\t<li>-1.62468822386685</li>\n",
       "\t<li>0.946485741037018</li>\n",
       "\t<li>0.308507844445035</li>\n",
       "\t<li>2.56698905675751</li>\n",
       "\t<li>0.53098671863662</li>\n",
       "\t<li>-1.24221445805215</li>\n",
       "\t<li>0.309357187268376</li>\n",
       "\t<li>-1.4482606913315</li>\n",
       "\t<li>1.6806632496873</li>\n",
       "\t<li>0.0611620347552766</li>\n",
       "\t<li>0.396651315959161</li>\n",
       "\t<li>0.844802047694073</li>\n",
       "\t<li>-0.753281010728307</li>\n",
       "\t<li>-2.23497269203687</li>\n",
       "\t<li>-1.40117755445671</li>\n",
       "\t<li>0.0876598387568519</li>\n",
       "</ol>\n"
      ],
      "text/latex": [
       "\\begin{enumerate*}\n",
       "\\item 0.878794076920602\n",
       "\\item 0.753810770620789\n",
       "\\item -0.116444118083869\n",
       "\\item 0.617827265296414\n",
       "\\item -1.62468822386685\n",
       "\\item 0.946485741037018\n",
       "\\item 0.308507844445035\n",
       "\\item 2.56698905675751\n",
       "\\item 0.53098671863662\n",
       "\\item -1.24221445805215\n",
       "\\item 0.309357187268376\n",
       "\\item -1.4482606913315\n",
       "\\item 1.6806632496873\n",
       "\\item 0.0611620347552766\n",
       "\\item 0.396651315959161\n",
       "\\item 0.844802047694073\n",
       "\\item -0.753281010728307\n",
       "\\item -2.23497269203687\n",
       "\\item -1.40117755445671\n",
       "\\item 0.0876598387568519\n",
       "\\end{enumerate*}\n"
      ],
      "text/markdown": [
       "1. 0.878794076920602\n",
       "2. 0.753810770620789\n",
       "3. -0.116444118083869\n",
       "4. 0.617827265296414\n",
       "5. -1.62468822386685\n",
       "6. 0.946485741037018\n",
       "7. 0.308507844445035\n",
       "8. 2.56698905675751\n",
       "9. 0.53098671863662\n",
       "10. -1.24221445805215\n",
       "11. 0.309357187268376\n",
       "12. -1.4482606913315\n",
       "13. 1.6806632496873\n",
       "14. 0.0611620347552766\n",
       "15. 0.396651315959161\n",
       "16. 0.844802047694073\n",
       "17. -0.753281010728307\n",
       "18. -2.23497269203687\n",
       "19. -1.40117755445671\n",
       "20. 0.0876598387568519\n",
       "\n",
       "\n"
      ],
      "text/plain": [
       " [1]  0.87879408  0.75381077 -0.11644412  0.61782727 -1.62468822  0.94648574\n",
       " [7]  0.30850784  2.56698906  0.53098672 -1.24221446  0.30935719 -1.44826069\n",
       "[13]  1.68066325  0.06116203  0.39665132  0.84480205 -0.75328101 -2.23497269\n",
       "[19] -1.40117755  0.08765984"
      ]
     },
     "metadata": {},
     "output_type": "display_data"
    }
   ],
   "source": [
    "rnd_int<-rnorm(20,0,1.2)\n",
    "rnd_int"
   ]
  },
  {
   "cell_type": "code",
   "execution_count": 22,
   "metadata": {},
   "outputs": [
    {
     "name": "stderr",
     "output_type": "stream",
     "text": [
      "also installing the dependency ‘nloptr’\n",
      "\n",
      "Warning message in install.packages(\"lme4\"):\n",
      "“installation of package ‘nloptr’ had non-zero exit status”Warning message in install.packages(\"lme4\"):\n",
      "“installation of package ‘lme4’ had non-zero exit status”Updating HTML index of packages in '.Library'\n",
      "Making 'packages.html' ... done\n"
     ]
    }
   ],
   "source": [
    "install.packages(\"lme4\")\n"
   ]
  },
  {
   "cell_type": "code",
   "execution_count": 37,
   "metadata": {},
   "outputs": [
    {
     "ename": "ERROR",
     "evalue": "Error in library(\"lme4\"): there is no package called ‘lme4’\n",
     "output_type": "error",
     "traceback": [
      "Error in library(\"lme4\"): there is no package called ‘lme4’\nTraceback:\n",
      "1. library(\"lme4\")"
     ]
    }
   ],
   "source": [
    "library(\"lme4\")"
   ]
  },
  {
   "cell_type": "code",
   "execution_count": 33,
   "metadata": {},
   "outputs": [
    {
     "name": "stderr",
     "output_type": "stream",
     "text": [
      "Updating HTML index of packages in '.Library'\n",
      "Making 'packages.html' ... done\n"
     ]
    }
   ],
   "source": [
    "install.packages(\"nlme\")"
   ]
  },
  {
   "cell_type": "code",
   "execution_count": null,
   "metadata": {},
   "outputs": [],
   "source": []
  },
  {
   "cell_type": "code",
   "execution_count": 28,
   "metadata": {},
   "outputs": [
    {
     "name": "stderr",
     "output_type": "stream",
     "text": [
      "also installing the dependency ‘nloptr’\n",
      "\n",
      "Warning message in install.packages(\"lme4\", repos = c(\"http://lme4.r-forge.r-project.org/repos\", :\n",
      "“installation of package ‘nloptr’ had non-zero exit status”Warning message in install.packages(\"lme4\", repos = c(\"http://lme4.r-forge.r-project.org/repos\", :\n",
      "“installation of package ‘lme4’ had non-zero exit status”Updating HTML index of packages in '.Library'\n",
      "Making 'packages.html' ... done\n"
     ]
    }
   ],
   "source": [
    "install.packages(\"lme4\",\n",
    "   repos=c(\"http://lme4.r-forge.r-project.org/repos\",\n",
    "      getOption(\"repos\")[[\"CRAN\"]]))"
   ]
  },
  {
   "cell_type": "code",
   "execution_count": 30,
   "metadata": {},
   "outputs": [
    {
     "name": "stderr",
     "output_type": "stream",
     "text": [
      "Warning message in install.packages(\"lme4.0\", repos = c(\"http://lme4.r-forge.r-project.org/repos\", :\n",
      "“installation of package ‘lme4.0’ had non-zero exit status”Updating HTML index of packages in '.Library'\n",
      "Making 'packages.html' ... done\n"
     ]
    }
   ],
   "source": [
    "install.packages(\"lme4.0\", \n",
    "             repos=c(\"http://lme4.r-forge.r-project.org/repos\",\n",
    "                     getOption(\"repos\")[[\"CRAN\"]]))"
   ]
  },
  {
   "cell_type": "code",
   "execution_count": 36,
   "metadata": {},
   "outputs": [
    {
     "name": "stderr",
     "output_type": "stream",
     "text": [
      "also installing the dependency ‘nloptr’\n",
      "\n",
      "Warning message in install.packages(c(\"Matrix\", \"lme4\")):\n",
      "“installation of package ‘nloptr’ had non-zero exit status”Warning message in install.packages(c(\"Matrix\", \"lme4\")):\n",
      "“installation of package ‘lme4’ had non-zero exit status”Updating HTML index of packages in '.Library'\n",
      "Making 'packages.html' ... done\n"
     ]
    }
   ],
   "source": [
    "install.packages(c(\"Matrix\",\"lme4\"))"
   ]
  },
  {
   "cell_type": "code",
   "execution_count": 38,
   "metadata": {},
   "outputs": [
    {
     "ename": "ERROR",
     "evalue": "Error in library(\"lme4\"): there is no package called ‘lme4’\n",
     "output_type": "error",
     "traceback": [
      "Error in library(\"lme4\"): there is no package called ‘lme4’\nTraceback:\n",
      "1. library(\"lme4\")"
     ]
    }
   ],
   "source": [
    "library(\"lme4\")"
   ]
  },
  {
   "cell_type": "code",
   "execution_count": null,
   "metadata": {},
   "outputs": [],
   "source": []
  }
 ],
 "metadata": {
  "kernelspec": {
   "display_name": "R",
   "language": "R",
   "name": "ir"
  },
  "language_info": {
   "codemirror_mode": "r",
   "file_extension": ".r",
   "mimetype": "text/x-r-source",
   "name": "R",
   "pygments_lexer": "r",
   "version": "3.6.1"
  }
 },
 "nbformat": 4,
 "nbformat_minor": 2
}
